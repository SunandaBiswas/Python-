{
 "cells": [
  {
   "cell_type": "markdown",
   "id": "635eac9c",
   "metadata": {},
   "source": [
    "#### Creating Matrix"
   ]
  },
  {
   "cell_type": "markdown",
   "id": "74d9eccc",
   "metadata": {},
   "source": [
    "##### list"
   ]
  },
  {
   "cell_type": "code",
   "execution_count": 1,
   "id": "f2dc4439",
   "metadata": {},
   "outputs": [
    {
     "data": {
      "text/plain": [
       "[1, 2, 3]"
      ]
     },
     "execution_count": 1,
     "metadata": {},
     "output_type": "execute_result"
    }
   ],
   "source": [
    "a = [1, 2,3]  #one dimensional list\n",
    "a"
   ]
  },
  {
   "cell_type": "code",
   "execution_count": 2,
   "id": "6c6eaa55",
   "metadata": {},
   "outputs": [
    {
     "data": {
      "text/plain": [
       "[[1, 2], [3, 4]]"
      ]
     },
     "execution_count": 2,
     "metadata": {},
     "output_type": "execute_result"
    }
   ],
   "source": [
    "a = [[1,2], [3,4]]  #two dimensional matrix with two rows(row 0, 1) and columns(column 0, 1)\n",
    "a                   #nested list are created to create matrix "
   ]
  },
  {
   "cell_type": "markdown",
   "id": "17517bcb",
   "metadata": {},
   "source": [
    "In Machine learning concepts such as in CNN algorithm, when we train images then they need to be converted in numerical form. In this case, images are converted into lots of pixels that is in RGB value format. These pixels would be stored in two dimensional value as matrix. To analyze the matrix, we need to know the use of numpy library.  **Images are represented as two dimensional array.**"
   ]
  },
  {
   "cell_type": "markdown",
   "id": "a2ba107f",
   "metadata": {},
   "source": [
    "### Import library"
   ]
  },
  {
   "cell_type": "code",
   "execution_count": 3,
   "id": "cd44b96b",
   "metadata": {},
   "outputs": [],
   "source": [
    "import numpy as np #importing numpy library in short form as np "
   ]
  },
  {
   "cell_type": "code",
   "execution_count": 4,
   "id": "e988f9b7",
   "metadata": {},
   "outputs": [
    {
     "data": {
      "text/plain": [
       "<module 'numpy' from 'C:\\\\Users\\\\sunan\\\\anaconda3\\\\lib\\\\site-packages\\\\numpy\\\\__init__.py'>"
      ]
     },
     "execution_count": 4,
     "metadata": {},
     "output_type": "execute_result"
    }
   ],
   "source": [
    "np    #shows the module numpy"
   ]
  },
  {
   "cell_type": "markdown",
   "id": "ab62bc62",
   "metadata": {},
   "source": [
    "## Creating Matrix : np.array()"
   ]
  },
  {
   "cell_type": "code",
   "execution_count": 5,
   "id": "721b89bb",
   "metadata": {},
   "outputs": [
    {
     "name": "stdout",
     "output_type": "stream",
     "text": [
      "[[1 2 3]\n",
      " [4 5 6]\n",
      " [7 8 9]]\n"
     ]
    }
   ],
   "source": [
    "x= np.array([[1,2,3], [4,5,6], [7,8,9]])  #2D Matrix, 3*3 matrix\n",
    "print(x)"
   ]
  },
  {
   "cell_type": "markdown",
   "id": "c195a550",
   "metadata": {},
   "source": [
    "### Matrix Indexing"
   ]
  },
  {
   "cell_type": "code",
   "execution_count": 6,
   "id": "4415490d",
   "metadata": {},
   "outputs": [
    {
     "data": {
      "text/plain": [
       "3"
      ]
     },
     "execution_count": 6,
     "metadata": {},
     "output_type": "execute_result"
    }
   ],
   "source": [
    "x[0,2]  #0th row and 3rd column(starts from 0)\n",
    "#accessing single element"
   ]
  },
  {
   "cell_type": "code",
   "execution_count": 9,
   "id": "0fe8a1ca",
   "metadata": {},
   "outputs": [
    {
     "data": {
      "text/plain": [
       "8"
      ]
     },
     "execution_count": 9,
     "metadata": {},
     "output_type": "execute_result"
    }
   ],
   "source": [
    "x[2,1] #3rd row and 2nd column(starts from 0)  #this way is recommended"
   ]
  },
  {
   "cell_type": "code",
   "execution_count": 12,
   "id": "95ada65e",
   "metadata": {},
   "outputs": [
    {
     "data": {
      "text/plain": [
       "8"
      ]
     },
     "execution_count": 12,
     "metadata": {},
     "output_type": "execute_result"
    }
   ],
   "source": [
    "x[2][1]"
   ]
  },
  {
   "cell_type": "code",
   "execution_count": 10,
   "id": "d59dee97",
   "metadata": {},
   "outputs": [
    {
     "data": {
      "text/plain": [
       "array([1, 2, 3])"
      ]
     },
     "execution_count": 10,
     "metadata": {},
     "output_type": "execute_result"
    }
   ],
   "source": [
    "#access the entire row of a matrix\n",
    "\n",
    "x[0] #will show an array"
   ]
  },
  {
   "cell_type": "code",
   "execution_count": 11,
   "id": "c72a9aaf",
   "metadata": {},
   "outputs": [
    {
     "name": "stdout",
     "output_type": "stream",
     "text": [
      "[1 2 3]\n"
     ]
    }
   ],
   "source": [
    "print(x[0]) #will show a list"
   ]
  },
  {
   "cell_type": "markdown",
   "id": "147ffce9",
   "metadata": {},
   "source": [
    "### Matrix Slicing"
   ]
  },
  {
   "cell_type": "markdown",
   "id": "de4ffaa3",
   "metadata": {},
   "source": [
    "x[i,j]"
   ]
  },
  {
   "cell_type": "markdown",
   "id": "85470543",
   "metadata": {},
   "source": [
    "x[ i1:i2 , j1:j2]"
   ]
  },
  {
   "cell_type": "code",
   "execution_count": 13,
   "id": "232a453a",
   "metadata": {},
   "outputs": [
    {
     "data": {
      "text/plain": [
       "array([[1, 2, 3],\n",
       "       [4, 5, 6],\n",
       "       [7, 8, 9]])"
      ]
     },
     "execution_count": 13,
     "metadata": {},
     "output_type": "execute_result"
    }
   ],
   "source": [
    "x"
   ]
  },
  {
   "cell_type": "code",
   "execution_count": 20,
   "id": "d590a7bf",
   "metadata": {},
   "outputs": [],
   "source": [
    " x[0:2,1:2] "
   ]
  },
  {
   "cell_type": "code",
   "execution_count": 21,
   "id": "d5a80801",
   "metadata": {},
   "outputs": [
    {
     "data": {
      "text/plain": [
       "array([[1, 2],\n",
       "       [4, 5]])"
      ]
     },
     "execution_count": 21,
     "metadata": {},
     "output_type": "execute_result"
    }
   ],
   "source": [
    "x[:2,:2]"
   ]
  },
  {
   "cell_type": "code",
   "execution_count": 22,
   "id": "e4b9be53",
   "metadata": {},
   "outputs": [
    {
     "data": {
      "text/plain": [
       "array([[1, 2, 3],\n",
       "       [4, 5, 6]])"
      ]
     },
     "execution_count": 22,
     "metadata": {},
     "output_type": "execute_result"
    }
   ],
   "source": [
    "x[0:2,] "
   ]
  },
  {
   "cell_type": "markdown",
   "id": "2798e12f",
   "metadata": {},
   "source": [
    "#### Checking the shape of the matrix"
   ]
  },
  {
   "cell_type": "code",
   "execution_count": 29,
   "id": "6a4bb58f",
   "metadata": {},
   "outputs": [
    {
     "data": {
      "text/plain": [
       "(3, 3)"
      ]
     },
     "execution_count": 29,
     "metadata": {},
     "output_type": "execute_result"
    }
   ],
   "source": [
    "x.shape"
   ]
  },
  {
   "cell_type": "code",
   "execution_count": 24,
   "id": "e1e2acbe",
   "metadata": {},
   "outputs": [],
   "source": [
    "y= x[0:2,1:2] "
   ]
  },
  {
   "cell_type": "code",
   "execution_count": 26,
   "id": "cd49b76b",
   "metadata": {},
   "outputs": [
    {
     "data": {
      "text/plain": [
       "array([[2],\n",
       "       [5]])"
      ]
     },
     "execution_count": 26,
     "metadata": {},
     "output_type": "execute_result"
    }
   ],
   "source": [
    "y "
   ]
  },
  {
   "cell_type": "code",
   "execution_count": 28,
   "id": "55e5b4e8",
   "metadata": {},
   "outputs": [
    {
     "data": {
      "text/plain": [
       "(2, 1)"
      ]
     },
     "execution_count": 28,
     "metadata": {},
     "output_type": "execute_result"
    }
   ],
   "source": [
    "y.shape  #checking the shape of the matrix"
   ]
  },
  {
   "cell_type": "code",
   "execution_count": 30,
   "id": "cc82d792",
   "metadata": {},
   "outputs": [
    {
     "data": {
      "text/plain": [
       "(2, 3)"
      ]
     },
     "execution_count": 30,
     "metadata": {},
     "output_type": "execute_result"
    }
   ],
   "source": [
    "z= np.array([[10,20,30], [40,50,60]])\n",
    "z.shape"
   ]
  },
  {
   "cell_type": "markdown",
   "id": "c1c3a093",
   "metadata": {},
   "source": [
    "## Accessing rows and columns"
   ]
  },
  {
   "cell_type": "code",
   "execution_count": 35,
   "id": "efdfaa4b",
   "metadata": {},
   "outputs": [
    {
     "data": {
      "text/plain": [
       "array([[1, 2, 3],\n",
       "       [4, 5, 6],\n",
       "       [7, 8, 9]])"
      ]
     },
     "execution_count": 35,
     "metadata": {},
     "output_type": "execute_result"
    }
   ],
   "source": [
    "x"
   ]
  },
  {
   "cell_type": "code",
   "execution_count": 31,
   "id": "40909167",
   "metadata": {},
   "outputs": [
    {
     "data": {
      "text/plain": [
       "array([3, 6, 9])"
      ]
     },
     "execution_count": 31,
     "metadata": {},
     "output_type": "execute_result"
    }
   ],
   "source": [
    "x[:,2] #accessing column\n",
    "#shows 3rd column values for all the rows"
   ]
  },
  {
   "cell_type": "code",
   "execution_count": 33,
   "id": "3575c64c",
   "metadata": {},
   "outputs": [
    {
     "data": {
      "text/plain": [
       "array([[1, 2],\n",
       "       [4, 5]])"
      ]
     },
     "execution_count": 33,
     "metadata": {},
     "output_type": "execute_result"
    }
   ],
   "source": [
    "x[0:2,0:2]"
   ]
  },
  {
   "cell_type": "code",
   "execution_count": 34,
   "id": "8d3d0fca",
   "metadata": {},
   "outputs": [
    {
     "data": {
      "text/plain": [
       "array([[1, 2],\n",
       "       [4, 5]])"
      ]
     },
     "execution_count": 34,
     "metadata": {},
     "output_type": "execute_result"
    }
   ],
   "source": [
    "x[:2,0:2]"
   ]
  },
  {
   "cell_type": "code",
   "execution_count": 36,
   "id": "63ee64f8",
   "metadata": {},
   "outputs": [
    {
     "data": {
      "text/plain": [
       "array([[1, 2, 3],\n",
       "       [4, 5, 6],\n",
       "       [7, 8, 9]])"
      ]
     },
     "execution_count": 36,
     "metadata": {},
     "output_type": "execute_result"
    }
   ],
   "source": [
    "x[ : , :]"
   ]
  },
  {
   "cell_type": "code",
   "execution_count": 41,
   "id": "50b49a6c",
   "metadata": {},
   "outputs": [
    {
     "data": {
      "text/plain": [
       "array([[1, 2, 3],\n",
       "       [4, 5, 6],\n",
       "       [7, 8, 9]])"
      ]
     },
     "execution_count": 41,
     "metadata": {},
     "output_type": "execute_result"
    }
   ],
   "source": [
    "x"
   ]
  },
  {
   "cell_type": "code",
   "execution_count": 37,
   "id": "c0218d45",
   "metadata": {},
   "outputs": [
    {
     "data": {
      "text/plain": [
       "array([[1, 2],\n",
       "       [4, 5],\n",
       "       [7, 8]])"
      ]
     },
     "execution_count": 37,
     "metadata": {},
     "output_type": "execute_result"
    }
   ],
   "source": [
    "x[ : , :-1]"
   ]
  },
  {
   "cell_type": "code",
   "execution_count": 38,
   "id": "aa0c461f",
   "metadata": {},
   "outputs": [
    {
     "data": {
      "text/plain": [
       "array([[1, 2],\n",
       "       [4, 5]])"
      ]
     },
     "execution_count": 38,
     "metadata": {},
     "output_type": "execute_result"
    }
   ],
   "source": [
    "x[ :-1 , :-1]"
   ]
  },
  {
   "cell_type": "code",
   "execution_count": 46,
   "id": "c8e3afe3",
   "metadata": {},
   "outputs": [
    {
     "data": {
      "text/plain": [
       "array([[1]])"
      ]
     },
     "execution_count": 46,
     "metadata": {},
     "output_type": "execute_result"
    }
   ],
   "source": [
    "x[ :-2 , :1]"
   ]
  },
  {
   "cell_type": "code",
   "execution_count": 47,
   "id": "4ab3d40d",
   "metadata": {},
   "outputs": [
    {
     "data": {
      "text/plain": [
       "array([[1, 2]])"
      ]
     },
     "execution_count": 47,
     "metadata": {},
     "output_type": "execute_result"
    }
   ],
   "source": [
    "x[ :-2 , :2]"
   ]
  },
  {
   "cell_type": "code",
   "execution_count": 48,
   "id": "3aaf96ea",
   "metadata": {},
   "outputs": [
    {
     "data": {
      "text/plain": [
       "array([[1, 2, 3]])"
      ]
     },
     "execution_count": 48,
     "metadata": {},
     "output_type": "execute_result"
    }
   ],
   "source": [
    "x[ :-2 , :3]"
   ]
  },
  {
   "cell_type": "code",
   "execution_count": 55,
   "id": "1928f075",
   "metadata": {},
   "outputs": [
    {
     "data": {
      "text/plain": [
       "array([[7]])"
      ]
     },
     "execution_count": 55,
     "metadata": {},
     "output_type": "execute_result"
    }
   ],
   "source": [
    "x[ -1: , :1]"
   ]
  },
  {
   "cell_type": "code",
   "execution_count": 56,
   "id": "2e294fbc",
   "metadata": {},
   "outputs": [
    {
     "data": {
      "text/plain": [
       "array([[7, 8]])"
      ]
     },
     "execution_count": 56,
     "metadata": {},
     "output_type": "execute_result"
    }
   ],
   "source": [
    "x[ -1: , :2]"
   ]
  },
  {
   "cell_type": "code",
   "execution_count": 57,
   "id": "024d28d1",
   "metadata": {},
   "outputs": [
    {
     "data": {
      "text/plain": [
       "array([[7, 8, 9]])"
      ]
     },
     "execution_count": 57,
     "metadata": {},
     "output_type": "execute_result"
    }
   ],
   "source": [
    "x[ -1: , :3]"
   ]
  },
  {
   "cell_type": "code",
   "execution_count": 59,
   "id": "5e239313",
   "metadata": {},
   "outputs": [
    {
     "data": {
      "text/plain": [
       "array([[9]])"
      ]
     },
     "execution_count": 59,
     "metadata": {},
     "output_type": "execute_result"
    }
   ],
   "source": [
    "x[ -1: , -1:]"
   ]
  }
 ],
 "metadata": {
  "kernelspec": {
   "display_name": "Python 3",
   "language": "python",
   "name": "python3"
  },
  "language_info": {
   "codemirror_mode": {
    "name": "ipython",
    "version": 3
   },
   "file_extension": ".py",
   "mimetype": "text/x-python",
   "name": "python",
   "nbconvert_exporter": "python",
   "pygments_lexer": "ipython3",
   "version": "3.8.5"
  }
 },
 "nbformat": 4,
 "nbformat_minor": 5
}
